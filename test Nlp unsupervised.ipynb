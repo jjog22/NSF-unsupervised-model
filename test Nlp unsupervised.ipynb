{
 "cells": [
  {
   "cell_type": "markdown",
   "metadata": {},
   "source": [
    "# NSF Research Awards Abstracts\n",
    "This dataset comprises several paper abstracts, one per file, that were furnished by the NSF\n",
    "(National Science Foundation). \n",
    "The task is developing an unsupervised model which classifies abstracts into a topic (discover\n",
    "them). The goal is to group abstracts based on their semantic similarity.\n",
    "\n",
    "## SOLUTION - How to Cluster Documents\n",
    "We can think of the process of clustering documents in three steps:\n",
    "\n",
    "1. Cleaning and tokenizing data: this usually involves lowercasing text, removing non-alphanumeric characters, or stemming words.\n",
    "2. Generating vector representations of the documents: this concerns the mapping of documents from words into numerical vectors—some common ways of doing this include using bag-of-words models or word embeddings.\n",
    "3. Applying a clustering algorithm on the document vectors: this requires selecting and applying a clustering algorithm to find the best possible groups using the document vectors. Some frequently used algorithms include K-means or Hierarchical Clustering."
   ]
  },
  {
   "cell_type": "markdown",
   "metadata": {},
   "source": [
    "## Notes about this work\n",
    "- In the first version of this model we are going to check the steps of NLP\n",
    "using Doc2vec and functions from gensim library\n",
    "- I will use all the words in the documents read from XML files and in this version of experimentation\n",
    "- I don´t remove stopwords or another kind of cleaning like reducing short words or dimensionality\n",
    "because we need to make all the steps to implement clustering algorithm and review results at first check \n",
    "the results, to make the formation of clusters and similarity with the original data.\n",
    "- In later versions we can include another techniques and optimize the volume of words with the goal\n",
    "of getting better results and clustering of the documents in categories (not existent now) and this\n",
    "we call it like pseudo-categories (with the more representative words in a cluster)\n",
    "### I would make functions and pipelines of this code but my time wasn't enough to spend in better coding and testing another techniques for comparison"
   ]
  },
  {
   "cell_type": "markdown",
   "metadata": {},
   "source": [
    "## Install libraries and prepare definitions"
   ]
  },
  {
   "cell_type": "code",
   "execution_count": null,
   "metadata": {},
   "outputs": [],
   "source": [
    "import os\n",
    "import sys\n",
    "from xml.dom.minidom import parse\n",
    "import pandas as pd\n",
    "import seaborn as sns\n",
    "from gensim.models.doc2vec import Doc2Vec, TaggedDocument\n",
    "from nltk.tokenize import word_tokenize\n",
    "from sklearn import metrics\n",
    "from sklearn.cluster import Birch\n",
    "from sklearn.cluster import KMeans"
   ]
  },
  {
   "cell_type": "markdown",
   "metadata": {},
   "source": [
    "## Loading data from several XML files from the directory"
   ]
  },
  {
   "cell_type": "code",
   "execution_count": 194,
   "metadata": {},
   "outputs": [],
   "source": [
    "direct = \"C:\\\\Users\\\\Jjog22\\\\Downloads\\\\2020\\\\\"\n",
    "data_records = []\n",
    "count = 0\n",
    "def select_files_in_folder(dir, ext):\n",
    "    for file in os.listdir(dir):\n",
    "        if file.endswith('.%s' % ext):\n",
    "            yield os.path.join(dir, file)\n",
    "\n",
    "for file in select_files_in_folder(direct, 'xml'):\n",
    "    with open (file,\"rb\") as data:\n",
    "        reg = {}\n",
    "        count = count+1\n",
    "        tree = parse(data)\n",
    "        lst = tree.getElementsByTagName('AbstractNarration')[0]\n",
    "\n",
    "        if(tree.getElementsByTagName('AbstractNarration')[0].firstChild):\n",
    "            reg['name'] = lst.firstChild.data\n",
    "            data_records.append(reg)\n",
    "        if count == 200:  # Limit the reading of docs for testing purposes first\n",
    "            break"
   ]
  },
  {
   "cell_type": "code",
   "execution_count": 195,
   "metadata": {},
   "outputs": [
    {
     "name": "stdout",
     "output_type": "stream",
     "text": [
      "Head and heart development are closely intertwined during embryonic development in vertebrates. They share molecular regulatory mechanism as well as some progenitor cell populations. Both head and heart, are made from a multitude of cells, which include mesodermal cells that form musculature and neural crest cells which form connective tissue. Mesodermal and neural crest cells are also important for the development of cartilages and bones in head and neck and for proper septation of the heart. The identity of cells that constitute these tissues is specified very early during embryogenesis via a specific set of genes (specifiers), then follow their trajectory to become muscle, connective tissue, etc.<br/>One early specifier, gastrulation-brain-homeobox 2 (Gbx2), is essential for the migration (movement) and survival of neural crest cells. Neural crest cells and mesodermal cells interact during their migration to form head and heart structures. While mesodermal cells are not directly effected by change in Gbx2 expression, neural crest cells are effected and will alter the communication with mesodermal cells, leading to changes in mesoderm derived structures (e.g., muscles). This project aims to understand how Gbx2 guides neural crest development, and how changes in Gbx2 expression influences head (muscle, cartilage, bone, cranial nerve) and heart development. <br/>Traditionally the fields of comparative, developmental and evolutionary biology have been unsuccessful in recruiting students and scientists of diverse backrounds. This project will promote collaborations between researchers from non-traditional backgrounds in these areas of biology and historically black universities, Howard University and University of the District of Columbia.  This award is funded by the NSF Excellence in Research Program.<br/><br/><br/>Technical paragraph<br/>Cranial neural crest cells (CNCCs) are involved in the development of cranial ganglia, cranial nerves, cranium, connective tissue of head muscles, heart septation, pharyngeal arch artery development, etc. The gastrulation-brain-homeobox (Gbx) transcription factor family member, Gbx2, regulates diverse developmental processes, including anteroposterior patterning within the anterior hindbrain and migration and survival of CNCCs. Since CNCCs are involved in many different developmental processes during head and heart development, this project aims to analyze target genes under direct control of Gbx2, that regulate migration and survival of CNCCs in homozygous Gbx2neo embryos. Furthermore, this project will include analyses of the impact of changes of Gbx2 expression on the morphogenesis of the neural system, and craniofacial and cardiovascular structures. The latter part is of significance as neural crest cells influence the development and differentiation of surrounding tissues and vice versa. During head and haert development the interaction of CNCCs and mesoderm is of particular interest for this project because the mesodermal progenitor cells for most of the head and heart musculature derives from a common progenitor field, called the cardiopharyngeal field. In case Gbx2 is somehow involved in the gene regulatory network underlying the differentiation of that mesodermal progenitor field, directly via altering the transcription of genes or indirectly via altering the neural crest - mesodermal interaction during development, this project will lead to insights into mechanisms regulating head and heart development as well as cranial ganglia and nerve development.<br/><br/>This award reflects NSF's statutory mission and has been deemed worthy of support through evaluation using the Foundation's intellectual merit and broader impacts review criteria.\n"
     ]
    }
   ],
   "source": [
    "# Print one sample for confirming the reading of abstract\n",
    "print(data_records[0]['name'])"
   ]
  },
  {
   "cell_type": "markdown",
   "metadata": {},
   "source": [
    "## We are going to tokenize the words in every document and also we will get the tags for every one list of document"
   ]
  },
  {
   "cell_type": "code",
   "execution_count": null,
   "metadata": {},
   "outputs": [],
   "source": [
    "tokenizeddoc= []\n",
    "for d in data_records:\n",
    "    tokenizeddoc.append(word_tokenize(d['name'] .lower()))"
   ]
  },
  {
   "cell_type": "markdown",
   "metadata": {},
   "source": [
    "## We are going to make tags from every abstract from the document"
   ]
  },
  {
   "cell_type": "code",
   "execution_count": 197,
   "metadata": {},
   "outputs": [],
   "source": [
    "tagged = [TaggedDocument(d,[i])  for i,d in enumerate(tokenizeddoc) ]"
   ]
  },
  {
   "cell_type": "code",
   "execution_count": 199,
   "metadata": {},
   "outputs": [
    {
     "data": {
      "text/plain": [
       "TaggedDocument(words=['head', 'and', 'heart', 'development', 'are', 'closely', 'intertwined', 'during', 'embryonic', 'development', 'in', 'vertebrates', '.', 'they', 'share', 'molecular', 'regulatory', 'mechanism', 'as', 'well', 'as', 'some', 'progenitor', 'cell', 'populations', '.', 'both', 'head', 'and', 'heart', ',', 'are', 'made', 'from', 'a', 'multitude', 'of', 'cells', ',', 'which', 'include', 'mesodermal', 'cells', 'that', 'form', 'musculature', 'and', 'neural', 'crest', 'cells', 'which', 'form', 'connective', 'tissue', '.', 'mesodermal', 'and', 'neural', 'crest', 'cells', 'are', 'also', 'important', 'for', 'the', 'development', 'of', 'cartilages', 'and', 'bones', 'in', 'head', 'and', 'neck', 'and', 'for', 'proper', 'septation', 'of', 'the', 'heart', '.', 'the', 'identity', 'of', 'cells', 'that', 'constitute', 'these', 'tissues', 'is', 'specified', 'very', 'early', 'during', 'embryogenesis', 'via', 'a', 'specific', 'set', 'of', 'genes', '(', 'specifiers', ')', ',', 'then', 'follow', 'their', 'trajectory', 'to', 'become', 'muscle', ',', 'connective', 'tissue', ',', 'etc.', '<', 'br/', '>', 'one', 'early', 'specifier', ',', 'gastrulation-brain-homeobox', '2', '(', 'gbx2', ')', ',', 'is', 'essential', 'for', 'the', 'migration', '(', 'movement', ')', 'and', 'survival', 'of', 'neural', 'crest', 'cells', '.', 'neural', 'crest', 'cells', 'and', 'mesodermal', 'cells', 'interact', 'during', 'their', 'migration', 'to', 'form', 'head', 'and', 'heart', 'structures', '.', 'while', 'mesodermal', 'cells', 'are', 'not', 'directly', 'effected', 'by', 'change', 'in', 'gbx2', 'expression', ',', 'neural', 'crest', 'cells', 'are', 'effected', 'and', 'will', 'alter', 'the', 'communication', 'with', 'mesodermal', 'cells', ',', 'leading', 'to', 'changes', 'in', 'mesoderm', 'derived', 'structures', '(', 'e.g.', ',', 'muscles', ')', '.', 'this', 'project', 'aims', 'to', 'understand', 'how', 'gbx2', 'guides', 'neural', 'crest', 'development', ',', 'and', 'how', 'changes', 'in', 'gbx2', 'expression', 'influences', 'head', '(', 'muscle', ',', 'cartilage', ',', 'bone', ',', 'cranial', 'nerve', ')', 'and', 'heart', 'development', '.', '<', 'br/', '>', 'traditionally', 'the', 'fields', 'of', 'comparative', ',', 'developmental', 'and', 'evolutionary', 'biology', 'have', 'been', 'unsuccessful', 'in', 'recruiting', 'students', 'and', 'scientists', 'of', 'diverse', 'backrounds', '.', 'this', 'project', 'will', 'promote', 'collaborations', 'between', 'researchers', 'from', 'non-traditional', 'backgrounds', 'in', 'these', 'areas', 'of', 'biology', 'and', 'historically', 'black', 'universities', ',', 'howard', 'university', 'and', 'university', 'of', 'the', 'district', 'of', 'columbia', '.', 'this', 'award', 'is', 'funded', 'by', 'the', 'nsf', 'excellence', 'in', 'research', 'program.', '<', 'br/', '>', '<', 'br/', '>', '<', 'br/', '>', 'technical', 'paragraph', '<', 'br/', '>', 'cranial', 'neural', 'crest', 'cells', '(', 'cnccs', ')', 'are', 'involved', 'in', 'the', 'development', 'of', 'cranial', 'ganglia', ',', 'cranial', 'nerves', ',', 'cranium', ',', 'connective', 'tissue', 'of', 'head', 'muscles', ',', 'heart', 'septation', ',', 'pharyngeal', 'arch', 'artery', 'development', ',', 'etc', '.', 'the', 'gastrulation-brain-homeobox', '(', 'gbx', ')', 'transcription', 'factor', 'family', 'member', ',', 'gbx2', ',', 'regulates', 'diverse', 'developmental', 'processes', ',', 'including', 'anteroposterior', 'patterning', 'within', 'the', 'anterior', 'hindbrain', 'and', 'migration', 'and', 'survival', 'of', 'cnccs', '.', 'since', 'cnccs', 'are', 'involved', 'in', 'many', 'different', 'developmental', 'processes', 'during', 'head', 'and', 'heart', 'development', ',', 'this', 'project', 'aims', 'to', 'analyze', 'target', 'genes', 'under', 'direct', 'control', 'of', 'gbx2', ',', 'that', 'regulate', 'migration', 'and', 'survival', 'of', 'cnccs', 'in', 'homozygous', 'gbx2neo', 'embryos', '.', 'furthermore', ',', 'this', 'project', 'will', 'include', 'analyses', 'of', 'the', 'impact', 'of', 'changes', 'of', 'gbx2', 'expression', 'on', 'the', 'morphogenesis', 'of', 'the', 'neural', 'system', ',', 'and', 'craniofacial', 'and', 'cardiovascular', 'structures', '.', 'the', 'latter', 'part', 'is', 'of', 'significance', 'as', 'neural', 'crest', 'cells', 'influence', 'the', 'development', 'and', 'differentiation', 'of', 'surrounding', 'tissues', 'and', 'vice', 'versa', '.', 'during', 'head', 'and', 'haert', 'development', 'the', 'interaction', 'of', 'cnccs', 'and', 'mesoderm', 'is', 'of', 'particular', 'interest', 'for', 'this', 'project', 'because', 'the', 'mesodermal', 'progenitor', 'cells', 'for', 'most', 'of', 'the', 'head', 'and', 'heart', 'musculature', 'derives', 'from', 'a', 'common', 'progenitor', 'field', ',', 'called', 'the', 'cardiopharyngeal', 'field', '.', 'in', 'case', 'gbx2', 'is', 'somehow', 'involved', 'in', 'the', 'gene', 'regulatory', 'network', 'underlying', 'the', 'differentiation', 'of', 'that', 'mesodermal', 'progenitor', 'field', ',', 'directly', 'via', 'altering', 'the', 'transcription', 'of', 'genes', 'or', 'indirectly', 'via', 'altering', 'the', 'neural', 'crest', '-', 'mesodermal', 'interaction', 'during', 'development', ',', 'this', 'project', 'will', 'lead', 'to', 'insights', 'into', 'mechanisms', 'regulating', 'head', 'and', 'heart', 'development', 'as', 'well', 'as', 'cranial', 'ganglia', 'and', 'nerve', 'development.', '<', 'br/', '>', '<', 'br/', '>', 'this', 'award', 'reflects', 'nsf', \"'s\", 'statutory', 'mission', 'and', 'has', 'been', 'deemed', 'worthy', 'of', 'support', 'through', 'evaluation', 'using', 'the', 'foundation', \"'s\", 'intellectual', 'merit', 'and', 'broader', 'impacts', 'review', 'criteria', '.'], tags=[0])"
      ]
     },
     "execution_count": 199,
     "metadata": {},
     "output_type": "execute_result"
    }
   ],
   "source": [
    "tagged[0]"
   ]
  },
  {
   "cell_type": "markdown",
   "metadata": {},
   "source": [
    "## We can use doc2vec with the tokenized vectors of documents\n",
    "## the result is the model with the 20 most similary semantic words"
   ]
  },
  {
   "cell_type": "code",
   "execution_count": 200,
   "metadata": {},
   "outputs": [
    {
     "data": {
      "text/plain": [
       "<gensim.models.doc2vec.Doc2Vec at 0x166457862e0>"
      ]
     },
     "execution_count": 200,
     "metadata": {},
     "output_type": "execute_result"
    }
   ],
   "source": [
    "model = Doc2Vec(tagged,vector_size=20,window=2,min_count=1,workers=4,epochs=100)\n",
    "model"
   ]
  },
  {
   "cell_type": "markdown",
   "metadata": {},
   "source": [
    "## Use infer vector to infer the data in tokens separated in the dataset and prepare to be used for clustering algorithm"
   ]
  },
  {
   "cell_type": "code",
   "execution_count": 201,
   "metadata": {},
   "outputs": [],
   "source": [
    "X=[]\n",
    "#inference hyper-parameters\n",
    "start_alpha=0.01\n",
    "infer_epoch=1000\n",
    "\n",
    "for d in tokenizeddoc:\n",
    "    X.append( model.infer_vector(d , alpha=start_alpha, steps=infer_epoch) )"
   ]
  },
  {
   "cell_type": "markdown",
   "metadata": {},
   "source": [
    "BIRCH (balanced iterative reducing and clustering using hierarchies) is an unsupervised data mining algorithm used to perform hierarchical clustering over particularly large data-sets.With modifications it can also be used to accelerate k-means clustering and Gaussian mixture modeling with the expectation–maximization algorithm. An advantage of BIRCH is its ability to incrementally and dynamically cluster incoming, multi-dimensional metric data points in an attempt to produce the best quality clustering for a given set of resources (memory and time constraints). In most cases, BIRCH only requires a single scan of the database."
   ]
  },
  {
   "cell_type": "markdown",
   "metadata": {},
   "source": [
    "## Using Birch clustering method to define a way of clustering of large dataset with multiple variables"
   ]
  },
  {
   "cell_type": "code",
   "execution_count": 202,
   "metadata": {},
   "outputs": [],
   "source": [
    "k=5 #number of clusters\n",
    "brc = Birch(branching_factor=50, n_clusters=k, threshold=0.1, compute_labels=True)\n",
    "brc.fit(X)\n",
    " \n",
    "clusters = brc.predict(X)"
   ]
  },
  {
   "cell_type": "code",
   "execution_count": 209,
   "metadata": {},
   "outputs": [
    {
     "name": "stdout",
     "output_type": "stream",
     "text": [
      "Clusters: \n",
      "[1 3 0 2 1 0 0 0 1 0 0 1 2 0 0 1 0 1 1 3 2 0 3 0 1 1 0 1 0 1 0 1 1 0 0 1 1\n",
      " 0 0 0 1 1 1 0 1 1 1 1 0 0 3 0 0 1 1 1 0 3 1 1 1 2 3 0 0 3 0 1 1 0 1 1 0 1\n",
      " 1 0 1 0 1 3 1 0 0 1 1 1 0 1 1 1 3 2 0 1 2 2 1 0 1 1 1 1 0 3 1 0 0 0 3 1 0\n",
      " 0 2 0 1 2 1 4 4 2 4 1 2 0 2 1 3 4 1 3 3 3 2 1 3 3 3 1 2 1 1 1 2 2 1 2 4 2\n",
      " 3 1 0 2 0 2 2 2 3 2 0 0 3 1 3 3 2 3 2 1 1 3 2 3 3 2 2 2 3 3 0 3 3 2 2 2 2\n",
      " 0 2 2 3 2 3 3 0 2 2 2 2 1 3 2]\n"
     ]
    }
   ],
   "source": [
    "print (\"Clusters: \")\n",
    "print (clusters)"
   ]
  },
  {
   "cell_type": "markdown",
   "metadata": {},
   "source": [
    "## Using another clustering method more easy to understand and define the centers "
   ]
  },
  {
   "cell_type": "code",
   "execution_count": 204,
   "metadata": {},
   "outputs": [
    {
     "name": "stdout",
     "output_type": "stream",
     "text": [
      "Initialization complete\n",
      "Iteration 0, inertia 22782.838921177154\n",
      "Iteration 1, inertia 14239.996073939717\n",
      "Iteration 2, inertia 13714.598438378785\n",
      "Iteration 3, inertia 13660.873769759432\n",
      "Iteration 4, inertia 13644.714994332708\n",
      "Converged at iteration 4: strict convergence.\n"
     ]
    },
    {
     "data": {
      "text/plain": [
       "KMeans(max_iter=100, n_clusters=5, n_init=1, verbose=True)"
      ]
     },
     "execution_count": 204,
     "metadata": {},
     "output_type": "execute_result"
    }
   ],
   "source": [
    "km = KMeans(n_clusters=k, init='k-means++', max_iter=100, n_init=1,  verbose=True)\n",
    "km.fit(X)"
   ]
  },
  {
   "cell_type": "code",
   "execution_count": 210,
   "metadata": {},
   "outputs": [
    {
     "name": "stdout",
     "output_type": "stream",
     "text": [
      "Clusters: \n",
      "[1 0 4 3 1 4 4 4 1 4 4 3 2 4 4 1 4 1 1 0 3 4 0 4 1 1 4 1 4 1 4 1 1 4 1 4 1\n",
      " 4 4 4 1 4 1 4 1 1 1 1 4 4 0 4 4 1 1 1 4 0 1 1 1 3 0 4 4 0 4 1 1 4 1 1 4 1\n",
      " 1 0 1 4 1 0 1 4 4 1 1 1 4 1 1 1 0 1 4 1 3 1 1 4 1 1 1 1 3 0 1 4 4 4 0 1 4\n",
      " 4 2 4 1 2 4 0 0 2 0 0 3 4 2 0 0 0 1 0 0 0 3 1 0 0 0 1 3 1 0 1 3 3 0 2 0 2\n",
      " 3 1 4 3 4 3 2 3 0 3 4 4 0 1 0 0 3 0 2 1 0 0 3 0 0 2 2 3 0 0 4 0 3 3 2 2 3\n",
      " 4 3 2 0 3 0 0 4 3 2 2 3 1 0 2]\n"
     ]
    }
   ],
   "source": [
    "clusters = km.predict(X)\n",
    "print (\"Clusters: \")\n",
    "print (clusters)"
   ]
  },
  {
   "cell_type": "markdown",
   "metadata": {},
   "source": [
    "## Now printing for every cluster the categories defined from all the solution applied using 10 most representative words of the cluster in a pseudo-category \n",
    "(we need to remember that it haven't had stopwords removed in this scope)"
   ]
  },
  {
   "cell_type": "code",
   "execution_count": 205,
   "metadata": {},
   "outputs": [
    {
     "name": "stdout",
     "output_type": "stream",
     "text": [
      "Most representative terms per cluster (based on centroids):\n",
      "Cluster 0: technicians withdrawal automotive technician react preventing analysts whilst biotechnology shortfall \n",
      "Cluster 1: ligand-induced streams cu-induced low-power halo microbe meta-regression whilst alfvenic colonization \n",
      "Cluster 2: individual write academies fractions formal bromides normandale interspecies witnessing makerspace-facilitated \n",
      "Cluster 3: interspecies bromides normandale diverge semi-annual single- mutant identity iowa perceptions \n",
      "Cluster 4: uniformization double summit spaces self-determination operator conformal elliptic yamabe equivariant \n"
     ]
    }
   ],
   "source": [
    "print(\"Most representative terms per cluster (based on centroids):\")\n",
    "for i in range(k):\n",
    "    tokens_per_cluster = \"\"\n",
    "    most_representative = model.wv.most_similar(positive=[km.cluster_centers_[i]], topn=10)\n",
    "    for t in most_representative:\n",
    "        tokens_per_cluster += f\"{t[0]} \"\n",
    "    print(f\"Cluster {i}: {tokens_per_cluster}\")"
   ]
  },
  {
   "cell_type": "markdown",
   "metadata": {},
   "source": [
    "## Now preparing the data for plotting the points of vectors with the clusters found with Kmeans"
   ]
  },
  {
   "cell_type": "code",
   "execution_count": 206,
   "metadata": {},
   "outputs": [
    {
     "data": {
      "text/html": [
       "<div>\n",
       "<style scoped>\n",
       "    .dataframe tbody tr th:only-of-type {\n",
       "        vertical-align: middle;\n",
       "    }\n",
       "\n",
       "    .dataframe tbody tr th {\n",
       "        vertical-align: top;\n",
       "    }\n",
       "\n",
       "    .dataframe thead th {\n",
       "        text-align: right;\n",
       "    }\n",
       "</style>\n",
       "<table border=\"1\" class=\"dataframe\">\n",
       "  <thead>\n",
       "    <tr style=\"text-align: right;\">\n",
       "      <th></th>\n",
       "      <th>X0</th>\n",
       "      <th>X1</th>\n",
       "      <th>X2</th>\n",
       "      <th>X3</th>\n",
       "      <th>X4</th>\n",
       "      <th>X5</th>\n",
       "      <th>X6</th>\n",
       "      <th>X7</th>\n",
       "      <th>X8</th>\n",
       "      <th>X9</th>\n",
       "      <th>...</th>\n",
       "      <th>X11</th>\n",
       "      <th>X12</th>\n",
       "      <th>X13</th>\n",
       "      <th>X14</th>\n",
       "      <th>X15</th>\n",
       "      <th>X16</th>\n",
       "      <th>X17</th>\n",
       "      <th>X18</th>\n",
       "      <th>X19</th>\n",
       "      <th>cluster</th>\n",
       "    </tr>\n",
       "  </thead>\n",
       "  <tbody>\n",
       "    <tr>\n",
       "      <th>0</th>\n",
       "      <td>1.222218</td>\n",
       "      <td>3.421487</td>\n",
       "      <td>2.900913</td>\n",
       "      <td>5.299088</td>\n",
       "      <td>1.244431</td>\n",
       "      <td>-6.549654</td>\n",
       "      <td>-3.733086</td>\n",
       "      <td>4.695994</td>\n",
       "      <td>-0.816876</td>\n",
       "      <td>3.684415</td>\n",
       "      <td>...</td>\n",
       "      <td>1.120073</td>\n",
       "      <td>-3.249060</td>\n",
       "      <td>-1.426443</td>\n",
       "      <td>-4.750561</td>\n",
       "      <td>-0.447951</td>\n",
       "      <td>6.183841</td>\n",
       "      <td>-0.573976</td>\n",
       "      <td>-9.120449</td>\n",
       "      <td>-1.189856</td>\n",
       "      <td>1</td>\n",
       "    </tr>\n",
       "    <tr>\n",
       "      <th>1</th>\n",
       "      <td>2.312858</td>\n",
       "      <td>-1.072993</td>\n",
       "      <td>1.201875</td>\n",
       "      <td>4.623098</td>\n",
       "      <td>3.577709</td>\n",
       "      <td>3.172105</td>\n",
       "      <td>1.514272</td>\n",
       "      <td>-0.753903</td>\n",
       "      <td>-0.255479</td>\n",
       "      <td>-1.219908</td>\n",
       "      <td>...</td>\n",
       "      <td>3.671514</td>\n",
       "      <td>-0.884290</td>\n",
       "      <td>-1.018597</td>\n",
       "      <td>3.881118</td>\n",
       "      <td>-0.852452</td>\n",
       "      <td>3.073549</td>\n",
       "      <td>-0.213734</td>\n",
       "      <td>-1.769404</td>\n",
       "      <td>-3.696149</td>\n",
       "      <td>3</td>\n",
       "    </tr>\n",
       "    <tr>\n",
       "      <th>2</th>\n",
       "      <td>3.063264</td>\n",
       "      <td>-4.433488</td>\n",
       "      <td>-0.911484</td>\n",
       "      <td>0.391554</td>\n",
       "      <td>6.669806</td>\n",
       "      <td>0.759060</td>\n",
       "      <td>1.433682</td>\n",
       "      <td>1.830176</td>\n",
       "      <td>0.148040</td>\n",
       "      <td>-1.140092</td>\n",
       "      <td>...</td>\n",
       "      <td>2.982672</td>\n",
       "      <td>-5.394191</td>\n",
       "      <td>-3.479293</td>\n",
       "      <td>-1.621508</td>\n",
       "      <td>1.396666</td>\n",
       "      <td>1.055895</td>\n",
       "      <td>-0.885376</td>\n",
       "      <td>-1.945141</td>\n",
       "      <td>-4.833676</td>\n",
       "      <td>0</td>\n",
       "    </tr>\n",
       "    <tr>\n",
       "      <th>3</th>\n",
       "      <td>3.997170</td>\n",
       "      <td>-0.384614</td>\n",
       "      <td>1.220065</td>\n",
       "      <td>1.479192</td>\n",
       "      <td>4.549166</td>\n",
       "      <td>-2.942659</td>\n",
       "      <td>1.119800</td>\n",
       "      <td>1.300319</td>\n",
       "      <td>0.025938</td>\n",
       "      <td>-2.194084</td>\n",
       "      <td>...</td>\n",
       "      <td>-0.743585</td>\n",
       "      <td>-0.044775</td>\n",
       "      <td>-3.791886</td>\n",
       "      <td>1.355312</td>\n",
       "      <td>-0.919058</td>\n",
       "      <td>4.710793</td>\n",
       "      <td>-0.166257</td>\n",
       "      <td>-7.857598</td>\n",
       "      <td>-2.714498</td>\n",
       "      <td>2</td>\n",
       "    </tr>\n",
       "    <tr>\n",
       "      <th>4</th>\n",
       "      <td>0.122759</td>\n",
       "      <td>2.206995</td>\n",
       "      <td>-0.469515</td>\n",
       "      <td>7.249138</td>\n",
       "      <td>-1.128570</td>\n",
       "      <td>3.141586</td>\n",
       "      <td>-5.887905</td>\n",
       "      <td>2.867234</td>\n",
       "      <td>-3.392575</td>\n",
       "      <td>3.243379</td>\n",
       "      <td>...</td>\n",
       "      <td>1.819172</td>\n",
       "      <td>-1.295064</td>\n",
       "      <td>-2.307408</td>\n",
       "      <td>-5.660666</td>\n",
       "      <td>0.782763</td>\n",
       "      <td>2.624222</td>\n",
       "      <td>0.611877</td>\n",
       "      <td>-2.088635</td>\n",
       "      <td>-3.645327</td>\n",
       "      <td>1</td>\n",
       "    </tr>\n",
       "    <tr>\n",
       "      <th>5</th>\n",
       "      <td>-0.731066</td>\n",
       "      <td>-1.492429</td>\n",
       "      <td>-2.123064</td>\n",
       "      <td>1.708949</td>\n",
       "      <td>0.674910</td>\n",
       "      <td>-0.535293</td>\n",
       "      <td>-2.584781</td>\n",
       "      <td>-0.673896</td>\n",
       "      <td>-0.811164</td>\n",
       "      <td>1.548814</td>\n",
       "      <td>...</td>\n",
       "      <td>4.258260</td>\n",
       "      <td>-2.398514</td>\n",
       "      <td>-4.929351</td>\n",
       "      <td>-2.244110</td>\n",
       "      <td>2.609237</td>\n",
       "      <td>-2.446972</td>\n",
       "      <td>-5.333181</td>\n",
       "      <td>-2.563735</td>\n",
       "      <td>-3.274400</td>\n",
       "      <td>0</td>\n",
       "    </tr>\n",
       "    <tr>\n",
       "      <th>6</th>\n",
       "      <td>1.396110</td>\n",
       "      <td>-2.870889</td>\n",
       "      <td>-1.839843</td>\n",
       "      <td>2.978153</td>\n",
       "      <td>4.078466</td>\n",
       "      <td>1.405939</td>\n",
       "      <td>-0.788566</td>\n",
       "      <td>1.458503</td>\n",
       "      <td>-0.453515</td>\n",
       "      <td>-1.186350</td>\n",
       "      <td>...</td>\n",
       "      <td>1.090943</td>\n",
       "      <td>-2.578215</td>\n",
       "      <td>-1.667059</td>\n",
       "      <td>-1.363108</td>\n",
       "      <td>2.005216</td>\n",
       "      <td>1.496490</td>\n",
       "      <td>-0.360052</td>\n",
       "      <td>-1.419857</td>\n",
       "      <td>-2.000016</td>\n",
       "      <td>0</td>\n",
       "    </tr>\n",
       "    <tr>\n",
       "      <th>7</th>\n",
       "      <td>-2.569897</td>\n",
       "      <td>-2.255440</td>\n",
       "      <td>1.581014</td>\n",
       "      <td>1.434629</td>\n",
       "      <td>1.549800</td>\n",
       "      <td>-0.534726</td>\n",
       "      <td>1.802473</td>\n",
       "      <td>1.096187</td>\n",
       "      <td>-0.291467</td>\n",
       "      <td>2.383085</td>\n",
       "      <td>...</td>\n",
       "      <td>1.036353</td>\n",
       "      <td>-2.831564</td>\n",
       "      <td>-4.635042</td>\n",
       "      <td>-0.883832</td>\n",
       "      <td>5.969926</td>\n",
       "      <td>-0.387438</td>\n",
       "      <td>-4.243505</td>\n",
       "      <td>-4.965846</td>\n",
       "      <td>-2.433245</td>\n",
       "      <td>0</td>\n",
       "    </tr>\n",
       "    <tr>\n",
       "      <th>8</th>\n",
       "      <td>0.689613</td>\n",
       "      <td>0.230289</td>\n",
       "      <td>-1.992826</td>\n",
       "      <td>5.386662</td>\n",
       "      <td>0.554627</td>\n",
       "      <td>-0.817295</td>\n",
       "      <td>-3.831934</td>\n",
       "      <td>-2.386198</td>\n",
       "      <td>-2.506855</td>\n",
       "      <td>2.003424</td>\n",
       "      <td>...</td>\n",
       "      <td>0.084422</td>\n",
       "      <td>-1.440749</td>\n",
       "      <td>-2.445580</td>\n",
       "      <td>0.418043</td>\n",
       "      <td>2.198206</td>\n",
       "      <td>0.997979</td>\n",
       "      <td>0.437881</td>\n",
       "      <td>-2.724844</td>\n",
       "      <td>-5.879296</td>\n",
       "      <td>1</td>\n",
       "    </tr>\n",
       "    <tr>\n",
       "      <th>9</th>\n",
       "      <td>0.703942</td>\n",
       "      <td>-1.786209</td>\n",
       "      <td>-1.464140</td>\n",
       "      <td>1.862772</td>\n",
       "      <td>4.716974</td>\n",
       "      <td>-0.307364</td>\n",
       "      <td>-0.418943</td>\n",
       "      <td>0.208819</td>\n",
       "      <td>0.659927</td>\n",
       "      <td>0.556120</td>\n",
       "      <td>...</td>\n",
       "      <td>4.195662</td>\n",
       "      <td>-3.373060</td>\n",
       "      <td>-2.652169</td>\n",
       "      <td>-3.034444</td>\n",
       "      <td>2.919453</td>\n",
       "      <td>4.455566</td>\n",
       "      <td>-3.465005</td>\n",
       "      <td>-0.921235</td>\n",
       "      <td>-1.119794</td>\n",
       "      <td>0</td>\n",
       "    </tr>\n",
       "  </tbody>\n",
       "</table>\n",
       "<p>10 rows × 21 columns</p>\n",
       "</div>"
      ],
      "text/plain": [
       "         X0        X1        X2        X3        X4        X5        X6  \\\n",
       "0  1.222218  3.421487  2.900913  5.299088  1.244431 -6.549654 -3.733086   \n",
       "1  2.312858 -1.072993  1.201875  4.623098  3.577709  3.172105  1.514272   \n",
       "2  3.063264 -4.433488 -0.911484  0.391554  6.669806  0.759060  1.433682   \n",
       "3  3.997170 -0.384614  1.220065  1.479192  4.549166 -2.942659  1.119800   \n",
       "4  0.122759  2.206995 -0.469515  7.249138 -1.128570  3.141586 -5.887905   \n",
       "5 -0.731066 -1.492429 -2.123064  1.708949  0.674910 -0.535293 -2.584781   \n",
       "6  1.396110 -2.870889 -1.839843  2.978153  4.078466  1.405939 -0.788566   \n",
       "7 -2.569897 -2.255440  1.581014  1.434629  1.549800 -0.534726  1.802473   \n",
       "8  0.689613  0.230289 -1.992826  5.386662  0.554627 -0.817295 -3.831934   \n",
       "9  0.703942 -1.786209 -1.464140  1.862772  4.716974 -0.307364 -0.418943   \n",
       "\n",
       "         X7        X8        X9  ...       X11       X12       X13       X14  \\\n",
       "0  4.695994 -0.816876  3.684415  ...  1.120073 -3.249060 -1.426443 -4.750561   \n",
       "1 -0.753903 -0.255479 -1.219908  ...  3.671514 -0.884290 -1.018597  3.881118   \n",
       "2  1.830176  0.148040 -1.140092  ...  2.982672 -5.394191 -3.479293 -1.621508   \n",
       "3  1.300319  0.025938 -2.194084  ... -0.743585 -0.044775 -3.791886  1.355312   \n",
       "4  2.867234 -3.392575  3.243379  ...  1.819172 -1.295064 -2.307408 -5.660666   \n",
       "5 -0.673896 -0.811164  1.548814  ...  4.258260 -2.398514 -4.929351 -2.244110   \n",
       "6  1.458503 -0.453515 -1.186350  ...  1.090943 -2.578215 -1.667059 -1.363108   \n",
       "7  1.096187 -0.291467  2.383085  ...  1.036353 -2.831564 -4.635042 -0.883832   \n",
       "8 -2.386198 -2.506855  2.003424  ...  0.084422 -1.440749 -2.445580  0.418043   \n",
       "9  0.208819  0.659927  0.556120  ...  4.195662 -3.373060 -2.652169 -3.034444   \n",
       "\n",
       "        X15       X16       X17       X18       X19  cluster  \n",
       "0 -0.447951  6.183841 -0.573976 -9.120449 -1.189856        1  \n",
       "1 -0.852452  3.073549 -0.213734 -1.769404 -3.696149        3  \n",
       "2  1.396666  1.055895 -0.885376 -1.945141 -4.833676        0  \n",
       "3 -0.919058  4.710793 -0.166257 -7.857598 -2.714498        2  \n",
       "4  0.782763  2.624222  0.611877 -2.088635 -3.645327        1  \n",
       "5  2.609237 -2.446972 -5.333181 -2.563735 -3.274400        0  \n",
       "6  2.005216  1.496490 -0.360052 -1.419857 -2.000016        0  \n",
       "7  5.969926 -0.387438 -4.243505 -4.965846 -2.433245        0  \n",
       "8  2.198206  0.997979  0.437881 -2.724844 -5.879296        1  \n",
       "9  2.919453  4.455566 -3.465005 -0.921235 -1.119794        0  \n",
       "\n",
       "[10 rows x 21 columns]"
      ]
     },
     "execution_count": 206,
     "metadata": {},
     "output_type": "execute_result"
    }
   ],
   "source": [
    "n_features=20\n",
    "df_X = pd.DataFrame(X, columns=[f'X{str(i)}' for i in range(n_features)])\n",
    "df_X['cluster'] = clusters.T\n",
    "df_X[:10]"
   ]
  },
  {
   "cell_type": "markdown",
   "metadata": {},
   "source": [
    "# GRAPH THE POINTS OF DATA AND CLUSTER\n",
    " After finish the unsupervised model and determine the pseudo-categories we can try to make \n",
    " a representation in a visual way of the points of the vectorized words with the cluster\n",
    " as a result of the kmeans prediction"
   ]
  },
  {
   "cell_type": "code",
   "execution_count": 207,
   "metadata": {},
   "outputs": [
    {
     "data": {
      "image/png": "[encoded data removed]",
      "text/plain": [
       "<Figure size 504x504 with 3 Axes>"
      ]
     },
     "metadata": {
      "needs_background": "light"
     },
     "output_type": "display_data"
    }
   ],
   "source": [
    "g = sns.jointplot(data=df_X, x='X0', y='X1', hue='cluster', height=7)"
   ]
  },
  {
   "cell_type": "markdown",
   "metadata": {},
   "source": [
    "# Other Approaches\n",
    "## There are other approaches you could take to cluster text data like:\n",
    "\n",
    "- Using a pre-trained word embedding instead of training your own like in this notebook. \n",
    "- Generating feature vectors with another libraries like spacy using a bag-of-words or word embeddings.\n",
    "- Using improvements with the tokenization using lemmatization and stemming.\n",
    "- Reducing dimensionality of feature vectors. This is very useful if you use a bag-of-words approach.\n",
    "- Clustering documents using other algorithms like HDBSCAN or Hierarchical Clustering.\n",
    "- Classifing clusters based on categories applying NLP services like watson nlp\n",
    "- Using BERT sentence embeddings to generate the feature vectors."
   ]
  },
  {
   "cell_type": "code",
   "execution_count": null,
   "metadata": {},
   "outputs": [],
   "source": []
  }
 ],
 "metadata": {
  "kernelspec": {
   "display_name": "Python 3",
   "language": "python",
   "name": "python3"
  },
  "language_info": {
   "codemirror_mode": {
    "name": "ipython",
    "version": 3
   },
   "file_extension": ".py",
   "mimetype": "text/x-python",
   "name": "python",
   "nbconvert_exporter": "python",
   "pygments_lexer": "ipython3",
   "version": "3.8.5"
  }
 },
 "nbformat": 4,
 "nbformat_minor": 4
}
